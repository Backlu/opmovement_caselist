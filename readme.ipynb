{
 "cells": [
  {
   "cell_type": "code",
   "execution_count": 1,
   "metadata": {},
   "outputs": [],
   "source": [
    "from csvtomd import md_table\n",
    "from casedict import get_issue_list#issue_dict, demo_case_dict"
   ]
  },
  {
   "cell_type": "code",
   "execution_count": 2,
   "metadata": {
    "scrolled": true
   },
   "outputs": [
    {
     "name": "stdout",
     "output_type": "stream",
     "text": [
      "\n",
      "---- issue list ---\n",
      "\n",
      "issue_10: 工作檯上有粉紅色PPEN2 (N01-3F 05L F68-06 78.26 R11.12_20201013210000-20201013211000_1.mp4)\n",
      "issue_13: 沒有bbox (N01-3F 05L F68-07 78.31 R11.12_202010292220.mp4)\n",
      "issue_14: Flash亮度受現場燈光影響變大變小 (N01-3F 05L F68-06 78.26 R11.12_20201029212015-20201029222015_14.mp4)\n",
      "issue_15: 誤判料盒為BBOX ()\n",
      "issue_16: 工具顏色亮度較暗 ()\n",
      "issue_17: 手腕處的黃色手套誤偵測為為TZS (N01-3F 05L F68-01 78.69 R11.12_20201017093200-20201017093700_1.mp4)\n",
      "issue_18: 工具被手遮擋, 無法用顏色辨識 ()\n",
      "issue_19: 頭套誤判為閃光 ()\n",
      "issue_20: 左手作業 (N01-3F 05L F68-07 78.31 R11.12_20201102132200-20201102132700_20.mp4)\n",
      "issue_21: 雙手作業 (N01-3F 05L F68-07 78.31 R11.12_20201102131100-20201102131600_21.mp4)\n"
     ]
    }
   ],
   "source": [
    "issuelist = get_issue_list()\n",
    "table = []\n",
    "for k, case in issuelist.items():\n",
    "    table.append([k, case.desc, case.vpath])\n",
    "\n",
    "issue_list_md = md_table(table)\n",
    "text_file = open('README.md', 'w')\n",
    "text_file.write(issue_list_md)\n",
    "text_file.close()"
   ]
  }
 ],
 "metadata": {
  "kernelspec": {
   "display_name": "Python 3",
   "language": "python",
   "name": "python3"
  },
  "language_info": {
   "codemirror_mode": {
    "name": "ipython",
    "version": 3
   },
   "file_extension": ".py",
   "mimetype": "text/x-python",
   "name": "python",
   "nbconvert_exporter": "python",
   "pygments_lexer": "ipython3",
   "version": "3.6.9"
  }
 },
 "nbformat": 4,
 "nbformat_minor": 4
}
