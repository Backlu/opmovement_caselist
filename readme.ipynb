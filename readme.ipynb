{
 "cells": [
  {
   "cell_type": "code",
   "execution_count": 1,
   "metadata": {},
   "outputs": [],
   "source": [
    "from csvtomd import md_table\n",
    "from casedict import get_issue_list#issue_dict, demo_case_dict"
   ]
  },
  {
   "cell_type": "code",
   "execution_count": 9,
   "metadata": {
    "scrolled": true
   },
   "outputs": [
    {
     "name": "stdout",
     "output_type": "stream",
     "text": [
      "\n",
      "---- issue list ---\n",
      "\n",
      "issue_10: 工作檯上有粉紅色PPEN2\n",
      "issue_17: 手腕處的黃色手套辨識為TZS\n"
     ]
    }
   ],
   "source": [
    "issuelist = get_issue_list()\n",
    "table = []\n",
    "for k, case in issuelist.items():\n",
    "    table.append([k, case.desc, case.vpath])\n",
    "\n",
    "issue_list_md = md_table(table)\n",
    "text_file = open('README.md', 'w')\n",
    "text_file.write(issue_list_md)\n",
    "text_file.close()"
   ]
  },
  {
   "cell_type": "code",
   "execution_count": null,
   "metadata": {},
   "outputs": [],
   "source": []
  }
 ],
 "metadata": {
  "kernelspec": {
   "display_name": "Python 3",
   "language": "python",
   "name": "python3"
  },
  "language_info": {
   "codemirror_mode": {
    "name": "ipython",
    "version": 3
   },
   "file_extension": ".py",
   "mimetype": "text/x-python",
   "name": "python",
   "nbconvert_exporter": "python",
   "pygments_lexer": "ipython3",
   "version": "3.6.9"
  }
 },
 "nbformat": 4,
 "nbformat_minor": 4
}
